{
 "cells": [
  {
   "cell_type": "code",
   "execution_count": null,
   "metadata": {},
   "outputs": [],
   "source": [
    "import pandas as pd\n",
    "import seaborn as sns\n",
    "import matplotlib.pyplot as plt\n",
    "\n",
    "# Load the data\n",
    "df = pd.read_csv('../data/train.csv')\n",
    "\n",
    "# Show data info and summary statistics\n",
    "print(df.info())  # Check for missing values and datatypes\n",
    "print(df.describe())  # Get summary statistics\n",
    "\n",
    "# Drop non-numeric columns for correlation\n",
    "numeric_df = df.select_dtypes(include=['float64', 'int64'])  # Select only numeric columns\n",
    "\n",
    "# Survival Count plot\n",
    "plt.figure(figsize=(6, 4))\n",
    "sns.countplot(data=df, x='Survived')\n",
    "plt.title('Survival Count')\n",
    "plt.show()\n",
    "\n",
    "# Correlation Heatmap (with only numeric columns)\n",
    "plt.figure(figsize=(10, 8))\n",
    "sns.heatmap(numeric_df.corr(), annot=True, cmap='coolwarm')\n",
    "plt.title('Correlation Heatmap')\n",
    "plt.show()\n",
    "\n",
    "# Survival by Class and Gender\n",
    "plt.figure(figsize=(8, 6))\n",
    "sns.barplot(data=df, x='Pclass', y='Survived', hue='Sex')\n",
    "plt.title('Survival by Class and Gender')\n",
    "plt.show()\n"
   ]
  }
 ],
 "metadata": {
  "kernelspec": {
   "display_name": "venv",
   "language": "python",
   "name": "python3"
  },
  "language_info": {
   "codemirror_mode": {
    "name": "ipython",
    "version": 3
   },
   "file_extension": ".py",
   "mimetype": "text/x-python",
   "name": "python",
   "nbconvert_exporter": "python",
   "pygments_lexer": "ipython3",
   "version": "3.12.4"
  }
 },
 "nbformat": 4,
 "nbformat_minor": 2
}
